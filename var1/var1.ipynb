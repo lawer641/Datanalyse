{
 "cells": [
  {
   "cell_type": "markdown",
   "id": "4a32468d",
   "metadata": {},
   "source": [
    "Вариант 1: полностью напишите SQL скрипт, который автоматически посчитает дополнительные продажи."
   ]
  },
  {
   "cell_type": "markdown",
   "id": "14a3895f",
   "metadata": {},
   "source": [
    "Дано: 3 маркетинговые компании. В каждой из компаний есть целевая(была коммуникация) и контрольная группы. В целевой группе необходимо учитывать только тех клиентов, кому коммуникация была доставлена. \n",
    "код доставки сообщения:\n",
    "\n",
    "1- сообщение доставлено\n",
    "\n",
    "2 - сообщение потеряно\n",
    "\n",
    "3 - клиент находится в контрольной группе (отправка заблокирована системой)\n",
    "следовательно первым делом необходимо удалить из таблицы response пользователей, которые не находятся в контрольной группе, но до которых не дошла коммуникация(потерялось сообщение). Будет лучше создать представление. Для каждой кампании создадим свое представление:"
   ]
  },
  {
   "cell_type": "markdown",
   "id": "891bc74a",
   "metadata": {},
   "source": [
    "Для маркетинговой кампании А_Б тест макета банера в письме (А)"
   ]
  },
  {
   "cell_type": "code",
   "execution_count": null,
   "id": "6d344a14",
   "metadata": {
    "vscode": {
     "languageId": "sql"
    }
   },
   "outputs": [],
   "source": [
    "create or replace\n",
    "view AB_responses_A\n",
    "as select * from project.response where cell_package_sk = 118512 and response_code = 1\n",
    "\n",
    "create or replace\n",
    "view AB_responses_A_ctr\n",
    "as select * from project.response where cell_package_sk = 118513 \n"
   ]
  },
  {
   "cell_type": "markdown",
   "id": "6ab41aa7",
   "metadata": {},
   "source": [
    "Б"
   ]
  },
  {
   "cell_type": "code",
   "execution_count": null,
   "id": "821ee9f2",
   "metadata": {
    "vscode": {
     "languageId": "sql"
    }
   },
   "outputs": [],
   "source": [
    "create or replace\n",
    "view AB_responses_B\n",
    "as select * from project.response where cell_package_sk = 118514 and response_code = 1\n",
    "\n",
    "create or replace\n",
    "view AB_responses_B_ctr\n",
    "as select * from project.response where cell_package_sk = 118515"
   ]
  },
  {
   "cell_type": "markdown",
   "id": "06f83870",
   "metadata": {},
   "source": [
    "Скидочная акция "
   ]
  },
  {
   "cell_type": "code",
   "execution_count": null,
   "id": "96c0b5e0",
   "metadata": {
    "vscode": {
     "languageId": "sql"
    }
   },
   "outputs": [],
   "source": [
    "create or replace\n",
    "view sales_response\n",
    "as select * from project.response where cell_package_sk = 118516 and response_code = 1\n",
    "\n",
    "create or replace\n",
    "view sales_response_ctr\n",
    "as select * from project.response where cell_package_sk = 118517"
   ]
  },
  {
   "cell_type": "markdown",
   "id": "a9f637de",
   "metadata": {},
   "source": [
    "Специальное предложение"
   ]
  },
  {
   "cell_type": "code",
   "execution_count": null,
   "id": "fe00ff52",
   "metadata": {
    "vscode": {
     "languageId": "sql"
    }
   },
   "outputs": [],
   "source": [
    "create or replace\n",
    "view offer\n",
    "as select * from project.response where cell_package_sk = 118518 and response_code = 1\n",
    "\n",
    "create or replace\n",
    "view offer_ctr\n",
    "as select * from project.response where cell_package_sk = 118519"
   ]
  },
  {
   "cell_type": "markdown",
   "id": "32975544",
   "metadata": {},
   "source": [
    "Теперь последовательно для каждой кампании составим по две таблицы с покупками, для целевой и контрольной группы. Необходимо учитывать то, что покупки могли быть совершены до\\после заврешения маркетинговой кампании, поэтому возьмем только те покупки, которые совершены в требуемый диапазон времени"
   ]
  },
  {
   "cell_type": "markdown",
   "id": "f7fef617",
   "metadata": {},
   "source": [
    "Кампания по АБ тестированию баннера началась 2023-06-23 и закончилась через три дня."
   ]
  },
  {
   "cell_type": "code",
   "execution_count": null,
   "id": "d8fbedee",
   "metadata": {
    "vscode": {
     "languageId": "sql"
    }
   },
   "outputs": [],
   "source": [
    "create or replace \n",
    "view A_sales\n",
    "as select AB_responses_A.\"Id_customer\",  sales.\"Date\", sales.\"id_product\" from AB_responses_A, sales where AB_responses_A.\"Id_customer\" = sales.\"Id_customer\"\n",
    "and sales.\"Date\" in ('2023-06-23 00:00:00', '2023-06-24 00:00:00', '2023-06-25 00:00:00')\n",
    "\n",
    "create or replace \n",
    "view A_sales_ctr\n",
    "as select AB_responses_A_ctr.\"Id_customer\",  sales.\"Date\", sales.\"id_product\" from AB_responses_A_ctr, sales where AB_responses_A_ctr.\"Id_customer\" = sales.\"Id_customer\"\n",
    "and sales.\"Date\" in ('2023-06-23 00:00:00', '2023-06-24 00:00:00', '2023-06-25 00:00:00')"
   ]
  },
  {
   "cell_type": "markdown",
   "id": "26421a7b",
   "metadata": {},
   "source": [
    "для Б"
   ]
  },
  {
   "cell_type": "code",
   "execution_count": null,
   "id": "ead18f96",
   "metadata": {
    "vscode": {
     "languageId": "sql"
    }
   },
   "outputs": [],
   "source": [
    "create or replace \n",
    "view B_sales\n",
    "as select AB_responses_B.\"Id_customer\",  sales.\"Date\", sales.\"id_product\" from AB_responses_B, sales where AB_responses_B.\"Id_customer\" = sales.\"Id_customer\"\n",
    "and sales.\"Date\" in ('2023-06-23 00:00:00', '2023-06-24 00:00:00', '2023-06-25 00:00:00')\n",
    "\n",
    "create or replace \n",
    "view B_sales_ctr\n",
    "as select AB_responses_B_ctr.\"Id_customer\",  sales.\"Date\", sales.\"id_product\" from AB_responses_B_ctr, sales where AB_responses_B_ctr.\"Id_customer\" = sales.\"Id_customer\"\n",
    "and sales.\"Date\" in ('2023-06-23 00:00:00', '2023-06-24 00:00:00', '2023-06-25 00:00:00')"
   ]
  },
  {
   "cell_type": "markdown",
   "id": "ad4cbb42",
   "metadata": {},
   "source": [
    "скидочная акция началась 2023-06-27 + 3 дня "
   ]
  },
  {
   "cell_type": "code",
   "execution_count": null,
   "id": "6f023622",
   "metadata": {
    "vscode": {
     "languageId": "sql"
    }
   },
   "outputs": [],
   "source": [
    "create or replace \n",
    "view sales_response_result\n",
    "as select sales_response.\"Id_customer\",  sales.\"Date\", sales.\"id_product\" from sales_response, sales where sales_response.\"Id_customer\" = sales.\"Id_customer\"\n",
    "and sales.\"Date\" in ('2023-06-27 00:00:00', '2023-06-28 00:00:00', '2023-06-29 00:00:00')\n",
    "\n",
    "\n",
    "create or replace \n",
    "view sales_response_ctr_result\n",
    "as select sales_response_ctr.\"Id_customer\",  sales.\"Date\", sales.\"id_product\" from sales_response_ctr, sales where sales_response_ctr.\"Id_customer\" = sales.\"Id_customer\"\n",
    "and sales.\"Date\" in ('2023-06-27 00:00:00', '2023-06-28 00:00:00', '2023-06-29 00:00:00')"
   ]
  },
  {
   "cell_type": "markdown",
   "id": "998f3ab3",
   "metadata": {},
   "source": [
    "Спецпредложение 2023-07-03 + 3 дня"
   ]
  },
  {
   "cell_type": "code",
   "execution_count": null,
   "id": "6df41fba",
   "metadata": {
    "vscode": {
     "languageId": "sql"
    }
   },
   "outputs": [],
   "source": [
    "create or replace \n",
    "view offer_sales\n",
    "as select offer.\"Id_customer\",  sales.\"Date\", sales.\"id_product\" from offer, sales where offer.\"Id_customer\" = sales.\"Id_customer\"\n",
    "and sales.\"Date\" in ('2023-07-03 00:00:00', '2023-07-04 00:00:00', '2023-07-05 00:00:00')\n",
    "\n",
    "create or replace \n",
    "view offer_sales_ctr\n",
    "as select offer_ctr.\"Id_customer\",  sales.\"Date\", sales.\"id_product\" from offer_ctr, sales where offer_ctr.\"Id_customer\" = sales.\"Id_customer\"\n",
    "and sales.\"Date\" in ('2023-07-03 00:00:00', '2023-07-04 00:00:00', '2023-07-05 00:00:00')"
   ]
  },
  {
   "cell_type": "markdown",
   "id": "e12f4b5f",
   "metadata": {},
   "source": [
    "сделаем еще 2 приготовления для каждой кампании - создадим вью со сводными таблицами цен для того, чтобы в будущем посчитать сумму покупок в одно действие"
   ]
  },
  {
   "cell_type": "code",
   "execution_count": null,
   "id": "62883d46",
   "metadata": {
    "vscode": {
     "languageId": "sql"
    }
   },
   "outputs": [],
   "source": [
    "create or replace \n",
    "view A_sales_prices as\n",
    "select a_sales.\"id_product\", price.\"price\"\n",
    "from a_sales\n",
    "join price\n",
    "on price.\"product_id\" = a_sales.\"id_product\"\n",
    "\n",
    "create or replace \n",
    "view A_sales_prices_ctr as\n",
    "select a_sales_ctr.\"id_product\", price.\"price\"\n",
    "from a_sales_ctr\n",
    "join price\n",
    "on price.\"product_id\" = a_sales_ctr.\"id_product\"\n",
    "\n",
    "select * from A_sales_prices_ctr"
   ]
  },
  {
   "cell_type": "markdown",
   "id": "0b626f2b",
   "metadata": {},
   "source": [
    "и заранее подсчитаем конверсии"
   ]
  },
  {
   "cell_type": "code",
   "execution_count": null,
   "id": "c980c6f1",
   "metadata": {
    "vscode": {
     "languageId": "sql"
    }
   },
   "outputs": [],
   "source": [
    " create or replace view a_convert as select ROUND(\n",
    "        COUNT(DISTINCT a_sales.\"Id_customer\")::DECIMAL / \n",
    "        COUNT(DISTINCT ab_responses_a.\"Id_customer\"),\n",
    "    4) as conversion_ratio from a_sales, ab_responses_a\n",
    "    \n",
    "    \n",
    "    \n",
    "create or replace view a_ctr_convert as select ROUND(\n",
    "        COUNT(DISTINCT a_sales_Ctr.\"Id_customer\")::DECIMAL / \n",
    "        COUNT(DISTINCT ab_responses_a_ctr.\"Id_customer\"),\n",
    "    4) as conversion_ratio from a_sales_ctr, ab_responses_a_ctr\n",
    "\n"
   ]
  },
  {
   "cell_type": "markdown",
   "id": "6f9ef7f4",
   "metadata": {},
   "source": [
    "конверсии для Б ветки теста "
   ]
  },
  {
   "cell_type": "code",
   "execution_count": null,
   "id": "2ea6dec7",
   "metadata": {
    "vscode": {
     "languageId": "sql"
    }
   },
   "outputs": [],
   "source": [
    " create or replace view b_convert as select ROUND(\n",
    "        COUNT(DISTINCT b_sales.\"Id_customer\")::DECIMAL / \n",
    "        COUNT(DISTINCT ab_responses_b.\"Id_customer\"),\n",
    "    4) as conversion_ratio from b_sales, ab_responses_b\n",
    "\n",
    "    \n",
    "create or replace view b_ctr_convert as select ROUND(\n",
    "        COUNT(DISTINCT b_sales_Ctr.\"Id_customer\")::DECIMAL / \n",
    "        COUNT(DISTINCT ab_responses_b_ctr.\"Id_customer\"),\n",
    "    4) as conversion_ratio from b_sales_ctr, ab_responses_b_ctr\n",
    "\n",
    "create or replace \n",
    "view b_sales_prices as\n",
    "select b_sales.\"id_product\", price.\"price\"\n",
    "from b_sales\n",
    "join price\n",
    "on price.\"product_id\" = b_sales.\"id_product\"\n",
    "\n",
    "create or replace \n",
    "view b_sales_prices_ctr as\n",
    "select b_sales_ctr.\"id_product\", price.\"price\"\n",
    "from b_sales_ctr\n",
    "join price\n",
    "on price.\"product_id\" = b_sales_ctr.\"id_product\"\n",
    "\n",
    "select * from b_sales_prices_ctr"
   ]
  },
  {
   "cell_type": "markdown",
   "id": "efeb9e1a",
   "metadata": {},
   "source": [
    "конверсии для оффера и таблицы цен "
   ]
  },
  {
   "cell_type": "code",
   "execution_count": null,
   "id": "41601350",
   "metadata": {
    "vscode": {
     "languageId": "sql"
    }
   },
   "outputs": [],
   "source": [
    " create or replace view offer_convert as select ROUND(\n",
    "        COUNT(DISTINCT offer_sales.\"Id_customer\")::DECIMAL / \n",
    "        COUNT(DISTINCT offer.\"Id_customer\"),\n",
    "    4) as conversion_ratio from offer_sales, offer\n",
    "\n",
    "select * from offer_convert\n",
    "\n",
    "create or replace view offer_ctr_convert as select ROUND(\n",
    "        COUNT(DISTINCT offer_sales_ctr.\"Id_customer\")::DECIMAL / \n",
    "        COUNT(DISTINCT offer_ctr.\"Id_customer\"),\n",
    "    4) as conversion_ratio from offer_sales_ctr, offer_ctr\n",
    "    \n",
    "select * from offer_ctr_convert\n",
    "\n",
    "create or replace \n",
    "view offer_sales_prices as\n",
    "select offer_sales.\"id_product\", price.\"price\"\n",
    "from offer_sales\n",
    "join price\n",
    "on price.\"product_id\" = offer_sales.\"id_product\"\n",
    "\n",
    "create or replace \n",
    "view offer_sales_prices_ctr as\n",
    "select offer_sales_ctr.\"id_product\", price.\"price\"\n",
    "from offer_sales_ctr\n",
    "join price\n",
    "on price.\"product_id\" = offer_sales_ctr.\"id_product\"\n",
    "\n",
    "select * from offer_sales_prices_ctr"
   ]
  },
  {
   "cell_type": "markdown",
   "id": "b6189db8",
   "metadata": {},
   "source": [
    "конверсии для скидочной акции и таблицы цен"
   ]
  },
  {
   "cell_type": "code",
   "execution_count": null,
   "id": "9400d919",
   "metadata": {
    "vscode": {
     "languageId": "sql"
    }
   },
   "outputs": [],
   "source": [
    "CREATE OR REPLACE VIEW sales_convert AS \n",
    "SELECT ROUND(\n",
    "    (SELECT COUNT(DISTINCT \"Id_customer\") FROM sales_response_result)::DECIMAL /\n",
    "    (SELECT COUNT(DISTINCT \"Id_customer\") FROM sales_response),\n",
    "    4\n",
    ") as conversion_ratio;\n",
    "\n",
    "select * from sales_convert\n",
    "\n",
    "create or replace view sales_ctr_convert as select ROUND(\n",
    "        COUNT(DISTINCT sales_response_ctr_result.\"Id_customer\")::DECIMAL / \n",
    "        COUNT(DISTINCT sales_response_ctr.\"Id_customer\"),\n",
    "    4) as conversion_ratio from sales_response_ctr_result, sales_response_ctr\n",
    "    \n",
    "select * from sales_ctr_convert\n",
    "\n",
    "\n",
    "create or replace \n",
    "view sales_prices as\n",
    "select sales_response_result.\"id_product\", price.\"price\"\n",
    "from sales_response_result\n",
    "join price\n",
    "on price.\"product_id\" = sales_response_result.\"id_product\"\n",
    "\n",
    "select * from sales_prices\n",
    "\n",
    "create or replace \n",
    "view sales_prices_ctr as\n",
    "select sales_response_ctr_result.\"id_product\", price.\"price\"\n",
    "from sales_response_ctr_result\n",
    "join price\n",
    "on price.\"product_id\" = sales_response_ctr_result.\"id_product\"\n",
    "\n",
    "select * from sales_prices_ctr\n"
   ]
  },
  {
   "cell_type": "markdown",
   "id": "0c5ed910",
   "metadata": {},
   "source": [
    "Теперь создадим финальную сводную таблицу с дополнительной выручкой по каждой из маркетинговых компаний и попробуем сделать выводы"
   ]
  },
  {
   "cell_type": "code",
   "execution_count": null,
   "id": "b857504e",
   "metadata": {
    "vscode": {
     "languageId": "sql"
    }
   },
   "outputs": [],
   "source": [
    "create table additional_revenue\n",
    "(ab_a numeric,\n",
    "ab_b numeric,\n",
    "sales numeric,\n",
    "offer numeric)\n",
    "\n",
    "insert into additional_revenue (ab_a, ab_b, sales, offer)\n",
    "values ((SELECT \n",
    "    (((SELECT a_convert.\"conversion_ratio\" FROM a_convert) - \n",
    "     (SELECT a_ctr_convert.\"conversion_ratio\" FROM a_ctr_convert)) * \n",
    "     COUNT(ab_responses_a.\"Id_customer\")) * (round((SELECT SUM(\"price\") FROM a_sales_prices)::DECIMAL /\n",
    "    (SELECT COUNT(DISTINCT \"Id_customer\") FROM a_sales), 0))\n",
    "FROM ab_responses_a), \n",
    "(SELECT \n",
    "    (((SELECT b_convert.\"conversion_ratio\" FROM b_convert) - \n",
    "     (SELECT b_ctr_convert.\"conversion_ratio\" FROM b_ctr_convert)) * \n",
    "     COUNT(ab_responses_b.\"Id_customer\")) * (round((SELECT SUM(\"price\") FROM b_sales_prices)::DECIMAL /\n",
    "    (SELECT COUNT(DISTINCT \"Id_customer\") FROM b_sales), 0))\n",
    "FROM ab_responses_b),\n",
    "(SELECT \n",
    "    (((select sales_convert.\"conversion_ratio\" FROM sales_convert) - \n",
    "     (SELECT sales_ctr_convert.\"conversion_ratio\" FROM sales_ctr_convert)) * \n",
    "     COUNT(sales_response.\"Id_customer\")) * (round((SELECT SUM(\"price\") FROM sales_prices)::DECIMAL /\n",
    "    (SELECT COUNT(DISTINCT \"Id_customer\") FROM sales_response_result), 0))\n",
    "FROM sales_response),\n",
    "\n",
    "(SELECT \n",
    "    (((select offer_convert.\"conversion_ratio\" FROM offer_convert) - \n",
    "     (SELECT offer_ctr_convert.\"conversion_ratio\" FROM offer_ctr_convert)) * \n",
    "     COUNT(offer.\"Id_customer\")) * (round((SELECT SUM(\"price\") FROM offer_sales_prices)::DECIMAL /\n",
    "    (SELECT COUNT(DISTINCT \"Id_customer\") FROM offer_sales), 0))\n",
    "FROM offer))"
   ]
  },
  {
   "cell_type": "markdown",
   "id": "da9f6b50",
   "metadata": {},
   "source": [
    "Выгрузим получившуюся таблицу в csv и импортируем в питон"
   ]
  },
  {
   "cell_type": "code",
   "execution_count": 3,
   "id": "970fed28",
   "metadata": {},
   "outputs": [
    {
     "data": {
      "text/html": [
       "<div>\n",
       "<style scoped>\n",
       "    .dataframe tbody tr th:only-of-type {\n",
       "        vertical-align: middle;\n",
       "    }\n",
       "\n",
       "    .dataframe tbody tr th {\n",
       "        vertical-align: top;\n",
       "    }\n",
       "\n",
       "    .dataframe thead th {\n",
       "        text-align: right;\n",
       "    }\n",
       "</style>\n",
       "<table border=\"1\" class=\"dataframe\">\n",
       "  <thead>\n",
       "    <tr style=\"text-align: right;\">\n",
       "      <th></th>\n",
       "      <th>ab_a</th>\n",
       "      <th>ab_b</th>\n",
       "      <th>sales</th>\n",
       "      <th>offer</th>\n",
       "    </tr>\n",
       "  </thead>\n",
       "  <tbody>\n",
       "    <tr>\n",
       "      <th>0</th>\n",
       "      <td>3654.1125</td>\n",
       "      <td>-500.7016</td>\n",
       "      <td>88374.4205</td>\n",
       "      <td>91212.8778</td>\n",
       "    </tr>\n",
       "  </tbody>\n",
       "</table>\n",
       "</div>"
      ],
      "text/plain": [
       "        ab_a      ab_b       sales       offer\n",
       "0  3654.1125 -500.7016  88374.4205  91212.8778"
      ]
     },
     "execution_count": 3,
     "metadata": {},
     "output_type": "execute_result"
    }
   ],
   "source": [
    "import pandas as pd\n",
    "data = pd.read_csv('additional_revenue.csv')\n",
    "data"
   ]
  },
  {
   "cell_type": "markdown",
   "id": "6b943211",
   "metadata": {},
   "source": [
    "маркетинговая компания, связанная с АБ тестированием вариантов баннера показала не впечатляющие результаты, особенно Б ветка теста - дополнительного дохода извлечь не удалось, наоборот, контрольная группа, которой показывали изначальную, старую версию баннера, потратила больше денег.\n",
    "Скидочная кампания и спецпредложение показали себя намного лучше, что видно из таблицы (disclaimer выводы актуальны только в случае, если все операции выше были правильными)"
   ]
  },
  {
   "cell_type": "markdown",
   "id": "ab23c8e2",
   "metadata": {},
   "source": [
    "полный листинг sql скрипта:"
   ]
  },
  {
   "cell_type": "code",
   "execution_count": null,
   "id": "71558bde",
   "metadata": {
    "vscode": {
     "languageId": "sql"
    }
   },
   "outputs": [],
   "source": [
    "create or replace\n",
    "view AB_responses_A\n",
    "as select * from project.response where cell_package_sk = 118512 and response_code = 1\n",
    "\n",
    "create or replace\n",
    "view AB_responses_A_ctr\n",
    "as select * from project.response where cell_package_sk = 118513 \n",
    "\n",
    "\n",
    "create or replace\n",
    "view AB_responses_B\n",
    "as select * from project.response where cell_package_sk = 118514 and response_code = 1\n",
    "\n",
    "create or replace\n",
    "view AB_responses_B_ctr\n",
    "as select * from project.response where cell_package_sk = 118515\n",
    "\n",
    "\n",
    "create or replace\n",
    "view sales_response\n",
    "as select * from project.response where cell_package_sk = 118516 and response_code = 1\n",
    "\n",
    "create or replace\n",
    "view sales_response_ctr\n",
    "as select * from project.response where cell_package_sk = 118517\n",
    "\n",
    "\n",
    "create or replace \n",
    "view A_sales\n",
    "as select AB_responses_A.\"Id_customer\",  sales.\"Date\", sales.\"id_product\" from AB_responses_A, sales where AB_responses_A.\"Id_customer\" = sales.\"Id_customer\"\n",
    "and sales.\"Date\" in ('2023-06-23 00:00:00', '2023-06-24 00:00:00', '2023-06-25 00:00:00')\n",
    "\n",
    "create or replace \n",
    "view A_sales_ctr\n",
    "as select AB_responses_A_ctr.\"Id_customer\",  sales.\"Date\", sales.\"id_product\" from AB_responses_A_ctr, sales where AB_responses_A_ctr.\"Id_customer\" = sales.\"Id_customer\"\n",
    "and sales.\"Date\" in ('2023-06-23 00:00:00', '2023-06-24 00:00:00', '2023-06-25 00:00:00')\n",
    "\n",
    "\n",
    "create or replace \n",
    "view B_sales\n",
    "as select AB_responses_B.\"Id_customer\",  sales.\"Date\", sales.\"id_product\" from AB_responses_B, sales where AB_responses_B.\"Id_customer\" = sales.\"Id_customer\"\n",
    "and sales.\"Date\" in ('2023-06-23 00:00:00', '2023-06-24 00:00:00', '2023-06-25 00:00:00')\n",
    "\n",
    "create or replace \n",
    "view B_sales_ctr\n",
    "as select AB_responses_B_ctr.\"Id_customer\",  sales.\"Date\", sales.\"id_product\" from AB_responses_B_ctr, sales where AB_responses_B_ctr.\"Id_customer\" = sales.\"Id_customer\"\n",
    "and sales.\"Date\" in ('2023-06-23 00:00:00', '2023-06-24 00:00:00', '2023-06-25 00:00:00')\n",
    "\n",
    "\n",
    "create or replace \n",
    "view sales_response_result\n",
    "as select sales_response.\"Id_customer\",  sales.\"Date\", sales.\"id_product\" from sales_response, sales where sales_response.\"Id_customer\" = sales.\"Id_customer\"\n",
    "and sales.\"Date\" in ('2023-06-27 00:00:00', '2023-06-28 00:00:00', '2023-06-29 00:00:00')\n",
    "\n",
    "create or replace \n",
    "view sales_response_ctr_result\n",
    "as select sales_response_ctr.\"Id_customer\",  sales.\"Date\", sales.\"id_product\" from sales_response_ctr, sales where sales_response_ctr.\"Id_customer\" = sales.\"Id_customer\"\n",
    "and sales.\"Date\" in ('2023-06-27 00:00:00', '2023-06-28 00:00:00', '2023-06-29 00:00:00')\n",
    "\n",
    "\n",
    "create or replace \n",
    "view offer_sales\n",
    "as select offer.\"Id_customer\",  sales.\"Date\", sales.\"id_product\" from offer, sales where offer.\"Id_customer\" = sales.\"Id_customer\"\n",
    "and sales.\"Date\" in ('2023-07-03 00:00:00', '2023-07-04 00:00:00', '2023-07-05 00:00:00')\n",
    "\n",
    "create or replace \n",
    "view offer_sales_ctr\n",
    "as select offer_ctr.\"Id_customer\",  sales.\"Date\", sales.\"id_product\" from offer_ctr, sales where offer_ctr.\"Id_customer\" = sales.\"Id_customer\"\n",
    "and sales.\"Date\" in ('2023-07-03 00:00:00', '2023-07-04 00:00:00', '2023-07-05 00:00:00')\n",
    "\n",
    "\n",
    "create or replace \n",
    "view A_sales_prices as\n",
    "select a_sales.\"id_product\", price.\"price\"\n",
    "from a_sales\n",
    "join price\n",
    "on price.\"product_id\" = a_sales.\"id_product\"\n",
    "\n",
    "create or replace \n",
    "view A_sales_prices_ctr as\n",
    "select a_sales_ctr.\"id_product\", price.\"price\"\n",
    "from a_sales_ctr\n",
    "join price\n",
    "on price.\"product_id\" = a_sales_ctr.\"id_product\"\n",
    "\n",
    "create or replace view a_convert as select ROUND(\n",
    "        COUNT(DISTINCT a_sales.\"Id_customer\")::DECIMAL / \n",
    "        COUNT(DISTINCT ab_responses_a.\"Id_customer\"),\n",
    "    4) as conversion_ratio from a_sales, ab_responses_a    \n",
    "    \n",
    "create or replace view a_ctr_convert as select ROUND(\n",
    "        COUNT(DISTINCT a_sales_Ctr.\"Id_customer\")::DECIMAL / \n",
    "        COUNT(DISTINCT ab_responses_a_ctr.\"Id_customer\"),\n",
    "    4) as conversion_ratio from a_sales_ctr, ab_responses_a_ctr\n",
    "\n",
    "\n",
    " create or replace view b_convert as select ROUND(\n",
    "        COUNT(DISTINCT b_sales.\"Id_customer\")::DECIMAL / \n",
    "        COUNT(DISTINCT ab_responses_b.\"Id_customer\"),\n",
    "    4) as conversion_ratio from b_sales, ab_responses_b\n",
    "\n",
    "    \n",
    "create or replace view b_ctr_convert as select ROUND(\n",
    "        COUNT(DISTINCT b_sales_Ctr.\"Id_customer\")::DECIMAL / \n",
    "        COUNT(DISTINCT ab_responses_b_ctr.\"Id_customer\"),\n",
    "    4) as conversion_ratio from b_sales_ctr, ab_responses_b_ctr\n",
    "\n",
    "create or replace \n",
    "view b_sales_prices as\n",
    "select b_sales.\"id_product\", price.\"price\"\n",
    "from b_sales\n",
    "join price\n",
    "on price.\"product_id\" = b_sales.\"id_product\"\n",
    "\n",
    "create or replace \n",
    "view b_sales_prices_ctr as\n",
    "select b_sales_ctr.\"id_product\", price.\"price\"\n",
    "from b_sales_ctr\n",
    "join price\n",
    "on price.\"product_id\" = b_sales_ctr.\"id_product\"\n",
    "\n",
    "\n",
    "create or replace view offer_convert as select ROUND(\n",
    "        COUNT(DISTINCT offer_sales.\"Id_customer\")::DECIMAL / \n",
    "        COUNT(DISTINCT offer.\"Id_customer\"),\n",
    "    4) as conversion_ratio from offer_sales, offer\n",
    "\n",
    "create or replace view offer_ctr_convert as select ROUND(\n",
    "        COUNT(DISTINCT offer_sales_ctr.\"Id_customer\")::DECIMAL / \n",
    "        COUNT(DISTINCT offer_ctr.\"Id_customer\"),\n",
    "    4) as conversion_ratio from offer_sales_ctr, offer_ctr\n",
    "\n",
    "create or replace \n",
    "view offer_sales_prices as\n",
    "select offer_sales.\"id_product\", price.\"price\"\n",
    "from offer_sales\n",
    "join price\n",
    "on price.\"product_id\" = offer_sales.\"id_product\"\n",
    "\n",
    "create or replace \n",
    "view offer_sales_prices_ctr as\n",
    "select offer_sales_ctr.\"id_product\", price.\"price\"\n",
    "from offer_sales_ctr\n",
    "join price\n",
    "on price.\"product_id\" = offer_sales_ctr.\"id_product\"\n",
    "\n",
    "\n",
    "CREATE OR REPLACE VIEW sales_convert AS \n",
    "SELECT ROUND(\n",
    "    (SELECT COUNT(DISTINCT \"Id_customer\") FROM sales_response_result)::DECIMAL /\n",
    "    (SELECT COUNT(DISTINCT \"Id_customer\") FROM sales_response),\n",
    "    4\n",
    ") as conversion_ratio;\n",
    "\n",
    "create or replace view sales_ctr_convert as select ROUND(\n",
    "        COUNT(DISTINCT sales_response_ctr_result.\"Id_customer\")::DECIMAL / \n",
    "        COUNT(DISTINCT sales_response_ctr.\"Id_customer\"),\n",
    "    4) as conversion_ratio from sales_response_ctr_result, sales_response_ctr\n",
    "\n",
    "\n",
    "create or replace \n",
    "view sales_prices as\n",
    "select sales_response_result.\"id_product\", price.\"price\"\n",
    "from sales_response_result\n",
    "join price\n",
    "on price.\"product_id\" = sales_response_result.\"id_product\"\n",
    "\n",
    "create or replace \n",
    "view sales_prices_ctr as\n",
    "select sales_response_ctr_result.\"id_product\", price.\"price\"\n",
    "from sales_response_ctr_result\n",
    "join price\n",
    "on price.\"product_id\" = sales_response_ctr_result.\"id_product\"\n",
    "\n",
    "create table additional_revenue\n",
    "(ab_a numeric,\n",
    "ab_b numeric,\n",
    "sales numeric,\n",
    "offer numeric)\n",
    "\n",
    "insert into additional_revenue (ab_a, ab_b, sales, offer)\n",
    "values ((SELECT \n",
    "    (((SELECT a_convert.\"conversion_ratio\" FROM a_convert) - \n",
    "     (SELECT a_ctr_convert.\"conversion_ratio\" FROM a_ctr_convert)) * \n",
    "     COUNT(ab_responses_a.\"Id_customer\")) * (round((SELECT SUM(\"price\") FROM a_sales_prices)::DECIMAL /\n",
    "    (SELECT COUNT(DISTINCT \"Id_customer\") FROM a_sales), 0))\n",
    "FROM ab_responses_a), \n",
    "(SELECT \n",
    "    (((SELECT b_convert.\"conversion_ratio\" FROM b_convert) - \n",
    "     (SELECT b_ctr_convert.\"conversion_ratio\" FROM b_ctr_convert)) * \n",
    "     COUNT(ab_responses_b.\"Id_customer\")) * (round((SELECT SUM(\"price\") FROM b_sales_prices)::DECIMAL /\n",
    "    (SELECT COUNT(DISTINCT \"Id_customer\") FROM b_sales), 0))\n",
    "FROM ab_responses_b),\n",
    "(SELECT \n",
    "    (((select sales_convert.\"conversion_ratio\" FROM sales_convert) - \n",
    "     (SELECT sales_ctr_convert.\"conversion_ratio\" FROM sales_ctr_convert)) * \n",
    "     COUNT(sales_response.\"Id_customer\")) * (round((SELECT SUM(\"price\") FROM sales_prices)::DECIMAL /\n",
    "    (SELECT COUNT(DISTINCT \"Id_customer\") FROM sales_response_result), 0))\n",
    "FROM sales_response),\n",
    "\n",
    "(SELECT \n",
    "    (((select offer_convert.\"conversion_ratio\" FROM offer_convert) - \n",
    "     (SELECT offer_ctr_convert.\"conversion_ratio\" FROM offer_ctr_convert)) * \n",
    "     COUNT(offer.\"Id_customer\")) * (round((SELECT SUM(\"price\") FROM offer_sales_prices)::DECIMAL /\n",
    "    (SELECT COUNT(DISTINCT \"Id_customer\") FROM offer_sales), 0))\n",
    "FROM offer))\n"
   ]
  }
 ],
 "metadata": {
  "kernelspec": {
   "display_name": "Python 3",
   "language": "python",
   "name": "python3"
  },
  "language_info": {
   "codemirror_mode": {
    "name": "ipython",
    "version": 3
   },
   "file_extension": ".py",
   "mimetype": "text/x-python",
   "name": "python",
   "nbconvert_exporter": "python",
   "pygments_lexer": "ipython3",
   "version": "3.11.9"
  }
 },
 "nbformat": 4,
 "nbformat_minor": 5
}
